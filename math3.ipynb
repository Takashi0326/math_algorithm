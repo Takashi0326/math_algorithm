{
 "cells": [
  {
   "cell_type": "code",
   "execution_count": 11,
   "metadata": {},
   "outputs": [],
   "source": [
    "import numpy as np\n",
    "import pandas as pd\n",
    "import matplotlib.pyplot as plt\n",
    "import japanize_matplotlib\n",
    "import scipy\n",
    "import sklearn\n",
    "import math\n"
   ]
  },
  {
   "cell_type": "code",
   "execution_count": 12,
   "metadata": {},
   "outputs": [
    {
     "data": {
      "text/plain": [
       "array([[ True,  True, False, False,  True, False, False],\n",
       "       [False, False, False, False, False,  True,  True],\n",
       "       [False,  True, False,  True,  True,  True,  True]])"
      ]
     },
     "execution_count": 12,
     "metadata": {},
     "output_type": "execute_result"
    }
   ],
   "source": [
    "np.array([[True, True, False, False, True, False, False],\n",
    "       [False, False, False, False, False, True, True],\n",
    "       [False, True, False, True, True, True, True]\n",
    "       ])"
   ]
  },
  {
   "cell_type": "code",
   "execution_count": 13,
   "metadata": {},
   "outputs": [
    {
     "data": {
      "text/plain": [
       "array([[False,  True,  True,  True, False,  True,  True],\n",
       "       [False, False, False,  True, False,  True, False],\n",
       "       [ True, False,  True,  True,  True, False,  True]])"
      ]
     },
     "execution_count": 13,
     "metadata": {},
     "output_type": "execute_result"
    }
   ],
   "source": [
    "np.random.random([3, 7]) < 0.65"
   ]
  },
  {
   "cell_type": "code",
   "execution_count": 14,
   "metadata": {},
   "outputs": [
    {
     "data": {
      "text/plain": [
       "array([ True,  True,  True])"
      ]
     },
     "execution_count": 14,
     "metadata": {},
     "output_type": "execute_result"
    }
   ],
   "source": [
    "(np.random.random([3, 7]) < 0.65).sum(axis=1) >= 4"
   ]
  },
  {
   "cell_type": "code",
   "execution_count": 15,
   "metadata": {},
   "outputs": [
    {
     "data": {
      "text/plain": [
       "0.800167"
      ]
     },
     "execution_count": 15,
     "metadata": {},
     "output_type": "execute_result"
    }
   ],
   "source": [
    "n_trial = 1000000\n",
    "n_battle = 7\n",
    "win7 = ((np.random.random([n_trial, n_battle]) < 0.65).sum(axis = 1) >= int(n_battle / 2) + 1).sum()\n",
    "win7 / n_trial"
   ]
  },
  {
   "cell_type": "code",
   "execution_count": 16,
   "metadata": {},
   "outputs": [
    {
     "data": {
      "text/plain": [
       "10.0"
      ]
     },
     "execution_count": 16,
     "metadata": {},
     "output_type": "execute_result"
    }
   ],
   "source": [
    "n = 5\n",
    "k = 3\n",
    "math.factorial(n) / (math.factorial(k) * math.factorial(n - k))"
   ]
  },
  {
   "cell_type": "code",
   "execution_count": 17,
   "metadata": {},
   "outputs": [],
   "source": [
    "def binomial_dist(k, n, p):\n",
    "    \"\"\" \n",
    "    :param k: k\n",
    "    :param n: n\n",
    "    :param p: p\n",
    "    :return : 二項分布\n",
    "    \"\"\"\n",
    "    c = math.factorial(n) / (math.factorial(k) * math.factorial(n - k))\n",
    "    return c * (p ** k) * ((1 - p) ** (n-k))"
   ]
  },
  {
   "cell_type": "code",
   "execution_count": 18,
   "metadata": {},
   "outputs": [
    {
     "data": {
      "text/html": [
       "<div>\n",
       "<style scoped>\n",
       "    .dataframe tbody tr th:only-of-type {\n",
       "        vertical-align: middle;\n",
       "    }\n",
       "\n",
       "    .dataframe tbody tr th {\n",
       "        vertical-align: top;\n",
       "    }\n",
       "\n",
       "    .dataframe thead th {\n",
       "        text-align: right;\n",
       "    }\n",
       "</style>\n",
       "<table border=\"1\" class=\"dataframe\">\n",
       "  <thead>\n",
       "    <tr style=\"text-align: right;\">\n",
       "      <th></th>\n",
       "      <th>勝率</th>\n",
       "    </tr>\n",
       "  </thead>\n",
       "  <tbody>\n",
       "    <tr>\n",
       "      <th>七番勝負</th>\n",
       "      <td>0.800154</td>\n",
       "    </tr>\n",
       "    <tr>\n",
       "      <th>五番勝負</th>\n",
       "      <td>0.764831</td>\n",
       "    </tr>\n",
       "  </tbody>\n",
       "</table>\n",
       "</div>"
      ],
      "text/plain": [
       "            勝率\n",
       "七番勝負  0.800154\n",
       "五番勝負  0.764831"
      ]
     },
     "execution_count": 18,
     "metadata": {},
     "output_type": "execute_result"
    }
   ],
   "source": [
    "win7 = 0\n",
    "\n",
    "for i in range(4, 8):\n",
    "    win7 += binomial_dist(i, 7, 0.65)\n",
    "    \n",
    "win5 = 0\n",
    "for i in range(3, 6):\n",
    "    win5 += binomial_dist(i, 5, 0.65)\n",
    "    \n",
    "pd.DataFrame([[win7], [win5]], index=['七番勝負', '五番勝負'], columns=['勝率'])"
   ]
  },
  {
   "cell_type": "code",
   "execution_count": 20,
   "metadata": {},
   "outputs": [
    {
     "data": {
      "text/plain": [
       "0.800154265625"
      ]
     },
     "execution_count": 20,
     "metadata": {},
     "output_type": "execute_result"
    }
   ],
   "source": [
    "from scipy.stats import binom\n",
    "\n",
    "win7 = 0\n",
    "for i in range(4, 8):\n",
    "    win7 += binom.pmf(i, 7, 0.65)\n",
    "    \n",
    "win7"
   ]
  },
  {
   "cell_type": "code",
   "execution_count": 25,
   "metadata": {},
   "outputs": [],
   "source": [
    "def binomial_dist2(k, n, p):\n",
    "    \"\"\" \n",
    "    二項分布(正規分布使用)\n",
    "    :param k: k\n",
    "    :param n: n\n",
    "    :param p: p\n",
    "    :return: 二項分布\n",
    "    \"\"\"\n",
    "    x1 = 1\n",
    "    x2 = np.sqrt(2* np.pi * n *p * (1-p))\n",
    "    y1 = -1 * ((k-n*p) ** 2)\n",
    "    y2 = 2 * n * p * (1 - p)\n",
    "    return (x1 / x2) * np.exp(y1 / y2)\n",
    "\n",
    "    \n",
    "    "
   ]
  },
  {
   "cell_type": "code",
   "execution_count": 26,
   "metadata": {},
   "outputs": [
    {
     "data": {
      "text/html": [
       "<div>\n",
       "<style scoped>\n",
       "    .dataframe tbody tr th:only-of-type {\n",
       "        vertical-align: middle;\n",
       "    }\n",
       "\n",
       "    .dataframe tbody tr th {\n",
       "        vertical-align: top;\n",
       "    }\n",
       "\n",
       "    .dataframe thead th {\n",
       "        text-align: right;\n",
       "    }\n",
       "</style>\n",
       "<table border=\"1\" class=\"dataframe\">\n",
       "  <thead>\n",
       "    <tr style=\"text-align: right;\">\n",
       "      <th></th>\n",
       "      <th>勝率</th>\n",
       "    </tr>\n",
       "  </thead>\n",
       "  <tbody>\n",
       "    <tr>\n",
       "      <th>七番勝負</th>\n",
       "      <td>0.795540</td>\n",
       "    </tr>\n",
       "    <tr>\n",
       "      <th>五番勝負</th>\n",
       "      <td>0.753376</td>\n",
       "    </tr>\n",
       "  </tbody>\n",
       "</table>\n",
       "</div>"
      ],
      "text/plain": [
       "            勝率\n",
       "七番勝負  0.795540\n",
       "五番勝負  0.753376"
      ]
     },
     "execution_count": 26,
     "metadata": {},
     "output_type": "execute_result"
    }
   ],
   "source": [
    "win7 = 0\n",
    "for i in range(4, 8):\n",
    "    win7 += binomial_dist2(i, 7, 0.65)\n",
    "\n",
    "win5 = 0\n",
    "for i in range(3, 6):\n",
    "    win5 += binomial_dist2(i, 5, 0.65)\n",
    "    \n",
    "    \n",
    "pd.DataFrame([[win7], [win5]], index=['七番勝負', '五番勝負'], columns=['勝率'])"
   ]
  },
  {
   "cell_type": "code",
   "execution_count": null,
   "metadata": {},
   "outputs": [],
   "source": []
  }
 ],
 "metadata": {
  "kernelspec": {
   "display_name": "Python 3",
   "language": "python",
   "name": "python3"
  },
  "language_info": {
   "codemirror_mode": {
    "name": "ipython",
    "version": 3
   },
   "file_extension": ".py",
   "mimetype": "text/x-python",
   "name": "python",
   "nbconvert_exporter": "python",
   "pygments_lexer": "ipython3",
   "version": "3.9.13"
  }
 },
 "nbformat": 4,
 "nbformat_minor": 2
}

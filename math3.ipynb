{
 "cells": [
  {
   "cell_type": "code",
   "execution_count": 1,
   "metadata": {},
   "outputs": [],
   "source": [
    "import numpy as np\n",
    "import pandas as pd\n",
    "import matplotlib.pyplot as plt\n",
    "import japanize_matplotlib\n",
    "import scipy\n",
    "import sklearn\n",
    "import math\n"
   ]
  },
  {
   "cell_type": "code",
   "execution_count": 2,
   "metadata": {},
   "outputs": [
    {
     "data": {
      "text/plain": [
       "array([[ True,  True, False, False,  True, False, False],\n",
       "       [False, False, False, False, False,  True,  True],\n",
       "       [False,  True, False,  True,  True,  True,  True]])"
      ]
     },
     "execution_count": 2,
     "metadata": {},
     "output_type": "execute_result"
    }
   ],
   "source": [
    "np.array([[True, True, False, False, True, False, False],\n",
    "       [False, False, False, False, False, True, True],\n",
    "       [False, True, False, True, True, True, True]\n",
    "       ])"
   ]
  },
  {
   "cell_type": "code",
   "execution_count": 3,
   "metadata": {},
   "outputs": [
    {
     "data": {
      "text/plain": [
       "array([[ True, False, False, False,  True, False,  True],\n",
       "       [ True, False,  True,  True, False,  True, False],\n",
       "       [ True,  True,  True,  True,  True, False, False]])"
      ]
     },
     "execution_count": 3,
     "metadata": {},
     "output_type": "execute_result"
    }
   ],
   "source": [
    "np.random.random([3, 7]) < 0.65"
   ]
  },
  {
   "cell_type": "code",
   "execution_count": 4,
   "metadata": {},
   "outputs": [
    {
     "data": {
      "text/plain": [
       "array([ True,  True,  True])"
      ]
     },
     "execution_count": 4,
     "metadata": {},
     "output_type": "execute_result"
    }
   ],
   "source": [
    "(np.random.random([3, 7]) < 0.65).sum(axis=1) >= 4"
   ]
  },
  {
   "cell_type": "code",
   "execution_count": 5,
   "metadata": {},
   "outputs": [
    {
     "data": {
      "text/plain": [
       "0.799471"
      ]
     },
     "execution_count": 5,
     "metadata": {},
     "output_type": "execute_result"
    }
   ],
   "source": [
    "n_trial = 1000000\n",
    "n_battle = 7\n",
    "win7 = ((np.random.random([n_trial, n_battle]) < 0.65).sum(axis = 1) >= int(n_battle / 2) + 1).sum()\n",
    "win7 / n_trial"
   ]
  },
  {
   "cell_type": "code",
   "execution_count": 6,
   "metadata": {},
   "outputs": [
    {
     "data": {
      "text/plain": [
       "10.0"
      ]
     },
     "execution_count": 6,
     "metadata": {},
     "output_type": "execute_result"
    }
   ],
   "source": [
    "n = 5\n",
    "k = 3\n",
    "math.factorial(n) / (math.factorial(k) * math.factorial(n - k))"
   ]
  },
  {
   "cell_type": "code",
   "execution_count": 7,
   "metadata": {},
   "outputs": [],
   "source": [
    "def binomial_dist(k, n, p):\n",
    "    \"\"\" \n",
    "    :param k: k\n",
    "    :param n: n\n",
    "    :param p: p\n",
    "    :return : 二項分布\n",
    "    \"\"\"\n",
    "    c = math.factorial(n) / (math.factorial(k) * math.factorial(n - k))\n",
    "    return c * (p ** k) * ((1 - p) ** (n-k))"
   ]
  },
  {
   "cell_type": "code",
   "execution_count": 8,
   "metadata": {},
   "outputs": [
    {
     "data": {
      "text/html": [
       "<div>\n",
       "<style scoped>\n",
       "    .dataframe tbody tr th:only-of-type {\n",
       "        vertical-align: middle;\n",
       "    }\n",
       "\n",
       "    .dataframe tbody tr th {\n",
       "        vertical-align: top;\n",
       "    }\n",
       "\n",
       "    .dataframe thead th {\n",
       "        text-align: right;\n",
       "    }\n",
       "</style>\n",
       "<table border=\"1\" class=\"dataframe\">\n",
       "  <thead>\n",
       "    <tr style=\"text-align: right;\">\n",
       "      <th></th>\n",
       "      <th>勝率</th>\n",
       "    </tr>\n",
       "  </thead>\n",
       "  <tbody>\n",
       "    <tr>\n",
       "      <th>七番勝負</th>\n",
       "      <td>0.800154</td>\n",
       "    </tr>\n",
       "    <tr>\n",
       "      <th>五番勝負</th>\n",
       "      <td>0.764831</td>\n",
       "    </tr>\n",
       "  </tbody>\n",
       "</table>\n",
       "</div>"
      ],
      "text/plain": [
       "            勝率\n",
       "七番勝負  0.800154\n",
       "五番勝負  0.764831"
      ]
     },
     "execution_count": 8,
     "metadata": {},
     "output_type": "execute_result"
    }
   ],
   "source": [
    "win7 = 0\n",
    "\n",
    "for i in range(4, 8):\n",
    "    win7 += binomial_dist(i, 7, 0.65)\n",
    "    \n",
    "win5 = 0\n",
    "for i in range(3, 6):\n",
    "    win5 += binomial_dist(i, 5, 0.65)\n",
    "    \n",
    "pd.DataFrame([[win7], [win5]], index=['七番勝負', '五番勝負'], columns=['勝率'])"
   ]
  },
  {
   "cell_type": "code",
   "execution_count": 9,
   "metadata": {},
   "outputs": [
    {
     "data": {
      "text/plain": [
       "0.800154265625"
      ]
     },
     "execution_count": 9,
     "metadata": {},
     "output_type": "execute_result"
    }
   ],
   "source": [
    "from scipy.stats import binom\n",
    "\n",
    "win7 = 0\n",
    "for i in range(4, 8):\n",
    "    win7 += binom.pmf(i, 7, 0.65)\n",
    "    \n",
    "win7"
   ]
  },
  {
   "cell_type": "code",
   "execution_count": 10,
   "metadata": {},
   "outputs": [],
   "source": [
    "def binomial_dist2(k, n, p):\n",
    "    \"\"\" \n",
    "    二項分布(正規分布使用)\n",
    "    :param k: k\n",
    "    :param n: n\n",
    "    :param p: p\n",
    "    :return: 二項分布\n",
    "    \"\"\"\n",
    "    x1 = 1\n",
    "    x2 = np.sqrt(2* np.pi * n *p * (1-p))\n",
    "    y1 = -1 * ((k-n*p) ** 2)\n",
    "    y2 = 2 * n * p * (1 - p)\n",
    "    return (x1 / x2) * np.exp(y1 / y2)\n",
    "\n",
    "    \n",
    "    "
   ]
  },
  {
   "cell_type": "code",
   "execution_count": 11,
   "metadata": {},
   "outputs": [
    {
     "data": {
      "text/html": [
       "<div>\n",
       "<style scoped>\n",
       "    .dataframe tbody tr th:only-of-type {\n",
       "        vertical-align: middle;\n",
       "    }\n",
       "\n",
       "    .dataframe tbody tr th {\n",
       "        vertical-align: top;\n",
       "    }\n",
       "\n",
       "    .dataframe thead th {\n",
       "        text-align: right;\n",
       "    }\n",
       "</style>\n",
       "<table border=\"1\" class=\"dataframe\">\n",
       "  <thead>\n",
       "    <tr style=\"text-align: right;\">\n",
       "      <th></th>\n",
       "      <th>勝率</th>\n",
       "    </tr>\n",
       "  </thead>\n",
       "  <tbody>\n",
       "    <tr>\n",
       "      <th>七番勝負</th>\n",
       "      <td>0.795540</td>\n",
       "    </tr>\n",
       "    <tr>\n",
       "      <th>五番勝負</th>\n",
       "      <td>0.753376</td>\n",
       "    </tr>\n",
       "  </tbody>\n",
       "</table>\n",
       "</div>"
      ],
      "text/plain": [
       "            勝率\n",
       "七番勝負  0.795540\n",
       "五番勝負  0.753376"
      ]
     },
     "execution_count": 11,
     "metadata": {},
     "output_type": "execute_result"
    }
   ],
   "source": [
    "win7 = 0\n",
    "for i in range(4, 8):\n",
    "    win7 += binomial_dist2(i, 7, 0.65)\n",
    "\n",
    "win5 = 0\n",
    "for i in range(3, 6):\n",
    "    win5 += binomial_dist2(i, 5, 0.65)\n",
    "    \n",
    "    \n",
    "pd.DataFrame([[win7], [win5]], index=['七番勝負', '五番勝負'], columns=['勝率'])"
   ]
  },
  {
   "cell_type": "code",
   "execution_count": 13,
   "metadata": {},
   "outputs": [
    {
     "data": {
      "text/plain": [
       "[<matplotlib.lines.Line2D at 0x14826466220>]"
      ]
     },
     "execution_count": 13,
     "metadata": {},
     "output_type": "execute_result"
    },
    {
     "data": {
      "image/png": "[encoded data removed]",
      "text/plain": [
       "<Figure size 640x480 with 1 Axes>"
      ]
     },
     "metadata": {},
     "output_type": "display_data"
    }
   ],
   "source": [
    "from scipy.special import beta\n",
    "\n",
    "def beta_distribution(x, a, b):\n",
    "    \"\"\" \n",
    "    ベータ分布\n",
    "    :param x: x\n",
    "    :param a: a\n",
    "    :param b: b\n",
    "    :return: ベータ分布\n",
    "    \"\"\"\n",
    "    numer = x ** (a - 1) * ((1 - x) ** (b - 1))\n",
    "    denom = beta(a, b)\n",
    "    return numer / denom\n",
    "\n",
    "a = 7\n",
    "b = 28\n",
    "t = np.linspace(0, 1, 100)\n",
    "y = [beta_distribution(x, a, b) for x in t]\n",
    "plt.plot(t, y)"
   ]
  },
  {
   "cell_type": "code",
   "execution_count": 16,
   "metadata": {},
   "outputs": [
    {
     "name": "stdout",
     "output_type": "stream",
     "text": [
      "0.27906976744186046\n"
     ]
    },
    {
     "data": {
      "image/png": "[encoded data removed]",
      "text/plain": [
       "<Figure size 640x480 with 1 Axes>"
      ]
     },
     "metadata": {},
     "output_type": "display_data"
    }
   ],
   "source": [
    "a = 7 + 6\n",
    "b = 28 + 4\n",
    "t = np.linspace(0, 1, 100)\n",
    "y = [beta_distribution(x, a, b) for x in t]\n",
    "plt.plot(t, y)\n",
    "print((a-1)/(a+b-2))"
   ]
  },
  {
   "cell_type": "code",
   "execution_count": 19,
   "metadata": {},
   "outputs": [
    {
     "data": {
      "text/plain": [
       "[<matplotlib.lines.Line2D at 0x14829c2b220>]"
      ]
     },
     "execution_count": 19,
     "metadata": {},
     "output_type": "execute_result"
    },
    {
     "data": {
      "image/png": "[encoded data removed]",
      "text/plain": [
       "<Figure size 640x480 with 1 Axes>"
      ]
     },
     "metadata": {},
     "output_type": "display_data"
    }
   ],
   "source": [
    "from scipy.stats import beta as beta_dist \n",
    "\n",
    "a = 7 + 6\n",
    "b = 28 + 4\n",
    "t = np.linspace(0, 1, 100)\n",
    "\n",
    "rv = beta_dist(a, b)\n",
    "plt.plot(t, rv.pdf(t), color='red', alpha=0.5)\n",
    "y2 = [beta_distribution(x, a, b) for x in t]\n",
    "plt.plot(t, y2, color='blue', alpha=0.5)\n",
    "\n"
   ]
  },
  {
   "cell_type": "code",
   "execution_count": 22,
   "metadata": {},
   "outputs": [
    {
     "data": {
      "text/plain": [
       "100.0"
      ]
     },
     "execution_count": 22,
     "metadata": {},
     "output_type": "execute_result"
    }
   ],
   "source": [
    "from scipy.special import gamma\n",
    "\n",
    "def beta_distribution_gamma(x, a, b):\n",
    "    \"\"\" \n",
    "    ベータ分布(ガンマ関数使用)\n",
    "    :param x: x\n",
    "    :param a: a\n",
    "    :param b: b\n",
    "    :return: ベータ分布\n",
    "    \"\"\"\n",
    "    numer = gamma(a + b)\n",
    "    denom = gamma(a) * gamma(b)\n",
    "    return (numer / denom) * (x ** (a - 1)) * ((1 - x) ** (b - 1))\n",
    "\n",
    "a = 7\n",
    "b = 28\n",
    "i = 0\n",
    "\n",
    "while i < 100:\n",
    "    a_ = a + i * 0.6\n",
    "    b_ = b + i * 0.4\n",
    "    m = (a_ - 1) / (a_ + b_ - 2)\n",
    "    if m > 0.5:\n",
    "        break\n",
    "    else:\n",
    "        i += 1\n",
    "        \n",
    "i * 0.6 + i * 0.4\n"
   ]
  },
  {
   "cell_type": "code",
   "execution_count": null,
   "metadata": {},
   "outputs": [],
   "source": []
  }
 ],
 "metadata": {
  "kernelspec": {
   "display_name": "Python 3",
   "language": "python",
   "name": "python3"
  },
  "language_info": {
   "codemirror_mode": {
    "name": "ipython",
    "version": 3
   },
   "file_extension": ".py",
   "mimetype": "text/x-python",
   "name": "python",
   "nbconvert_exporter": "python",
   "pygments_lexer": "ipython3",
   "version": "3.9.13"
  }
 },
 "nbformat": 4,
 "nbformat_minor": 2
}
